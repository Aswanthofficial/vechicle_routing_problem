{
  "nbformat": 4,
  "nbformat_minor": 0,
  "metadata": {
    "colab": {
      "provenance": []
    },
    "kernelspec": {
      "name": "python3",
      "display_name": "Python 3"
    },
    "language_info": {
      "name": "python"
    }
  },
  "cells": [
    {
      "cell_type": "code",
      "execution_count": null,
      "metadata": {
        "id": "5puGjqHgMnx9"
      },
      "outputs": [],
      "source": [
        "#TASK 1 - Install matplotlib and deap\n",
        "#       - Import all necessary libraries"
      ]
    },
    {
      "cell_type": "code",
      "source": [
        "!pip install matplotlib deap"
      ],
      "metadata": {
        "colab": {
          "base_uri": "https://localhost:8080/"
        },
        "id": "oF8obfJPQ1vz",
        "outputId": "78dadc2c-417a-44da-d5cc-4e4941706898"
      },
      "execution_count": 91,
      "outputs": [
        {
          "output_type": "stream",
          "name": "stdout",
          "text": [
            "Requirement already satisfied: matplotlib in /usr/local/lib/python3.10/dist-packages (3.10.0)\n",
            "Requirement already satisfied: deap in /usr/local/lib/python3.10/dist-packages (1.4.1)\n",
            "Requirement already satisfied: contourpy>=1.0.1 in /usr/local/lib/python3.10/dist-packages (from matplotlib) (1.3.1)\n",
            "Requirement already satisfied: cycler>=0.10 in /usr/local/lib/python3.10/dist-packages (from matplotlib) (0.12.1)\n",
            "Requirement already satisfied: fonttools>=4.22.0 in /usr/local/lib/python3.10/dist-packages (from matplotlib) (4.55.3)\n",
            "Requirement already satisfied: kiwisolver>=1.3.1 in /usr/local/lib/python3.10/dist-packages (from matplotlib) (1.4.8)\n",
            "Requirement already satisfied: numpy>=1.23 in /usr/local/lib/python3.10/dist-packages (from matplotlib) (1.26.4)\n",
            "Requirement already satisfied: packaging>=20.0 in /usr/local/lib/python3.10/dist-packages (from matplotlib) (24.2)\n",
            "Requirement already satisfied: pillow>=8 in /usr/local/lib/python3.10/dist-packages (from matplotlib) (11.1.0)\n",
            "Requirement already satisfied: pyparsing>=2.3.1 in /usr/local/lib/python3.10/dist-packages (from matplotlib) (3.2.1)\n",
            "Requirement already satisfied: python-dateutil>=2.7 in /usr/local/lib/python3.10/dist-packages (from matplotlib) (2.8.2)\n",
            "Requirement already satisfied: six>=1.5 in /usr/local/lib/python3.10/dist-packages (from python-dateutil>=2.7->matplotlib) (1.17.0)\n"
          ]
        }
      ]
    },
    {
      "cell_type": "code",
      "source": [
        "import random\n",
        "import numpy as np\n",
        "import matplotlib.pyplot as plt\n",
        "from deap import base, creator, tools, algorithms"
      ],
      "metadata": {
        "id": "n6BxAHpnRAd-"
      },
      "execution_count": 92,
      "outputs": []
    },
    {
      "cell_type": "code",
      "source": [
        "# TODO: Task 2 - Define the number of locations and vehicles\n",
        "\n",
        "num_locations = 10\n",
        "\n",
        "# Create a list of tuples representing location coordinates -\n",
        "# try to use a random number generator\n",
        "# (x, y) could be between 0 and 100\n",
        "locations = [(random.randint(0, 100), random.randint(0, 100)) for _ in range(num_locations)]\n",
        "\n",
        "\n",
        "depot =(50,50) # Define the coordinates for the depot\n",
        "\n",
        "num_vehicles = 5 # Define the number of vehicles - (eg 3)"
      ],
      "metadata": {
        "id": "KWk2KjnBP1Vw"
      },
      "execution_count": 107,
      "outputs": []
    },
    {
      "cell_type": "code",
      "source": [
        "print(f\"Number of Locations: {num_locations}\")\n",
        "print(f\"Locations: {locations}\")\n",
        "print(f\"Depot: {depot}\")\n",
        "print(f\"Number of Vehicles: {num_vehicles}\")"
      ],
      "metadata": {
        "colab": {
          "base_uri": "https://localhost:8080/"
        },
        "id": "88mI-XH1Saop",
        "outputId": "23f2d9c5-1bf5-4adf-958c-15246fbd24a9"
      },
      "execution_count": 108,
      "outputs": [
        {
          "output_type": "stream",
          "name": "stdout",
          "text": [
            "Number of Locations: 10\n",
            "Locations: [(18, 91), (35, 11), (5, 29), (66, 52), (89, 47), (58, 95), (10, 74), (12, 64), (17, 81), (50, 9)]\n",
            "Depot: (50, 50)\n",
            "Number of Vehicles: 5\n"
          ]
        }
      ]
    },
    {
      "cell_type": "code",
      "source": [
        "# Plot the locations and depot\n",
        "x, y = zip(*locations)\n",
        "plt.scatter(x, y, c='blue', label='Locations')\n",
        "plt.scatter(*depot, c='red', label='Depot', marker='x', s=100)\n",
        "\n",
        "plt.title(\"Locations and Depot\")\n",
        "plt.xlabel(\"X\")\n",
        "plt.ylabel(\"Y\")\n",
        "plt.legend()\n",
        "plt.grid(True)\n",
        "plt.show()\n"
      ],
      "metadata": {
        "colab": {
          "base_uri": "https://localhost:8080/",
          "height": 472
        },
        "id": "0ZTuv8CnSmYD",
        "outputId": "2fe9e0ff-1d1f-409f-940c-d1266f46c5bc"
      },
      "execution_count": 109,
      "outputs": [
        {
          "output_type": "display_data",
          "data": {
            "text/plain": [
              "<Figure size 640x480 with 1 Axes>"
            ],
            "image/png": "[encoded data removed]"
          },
          "metadata": {}
        }
      ]
    },
    {
      "cell_type": "code",
      "source": [
        "# TASK 3 - Genetic Algorithm Setup\n",
        "# - Figure out how to represent an individual OR encode an individual\n",
        "#creator.create(\"FitnessMin\", )\n",
        "#creator.create(\"Individual\", )\n",
        "\n",
        "\n",
        "# Define the fitness function as minimizing (e.g., total distance)\n",
        "creator.create(\"FitnessMin\", base.Fitness, weights=(-1.0,))\n",
        "\n",
        "# Define an individual as a list of integers representing location indices\n",
        "creator.create(\"Individual\", list, fitness=creator.FitnessMin)\n",
        "\n",
        "# Display confirmation\n",
        "print(\"Genetic Algorithm setup complete: Fitness and Individual classes created.\")\n"
      ],
      "metadata": {
        "colab": {
          "base_uri": "https://localhost:8080/"
        },
        "collapsed": true,
        "id": "fIAzmZ-RStcc",
        "outputId": "414aea3d-6bd5-4c09-a13c-e3c276514350"
      },
      "execution_count": 110,
      "outputs": [
        {
          "output_type": "stream",
          "name": "stdout",
          "text": [
            "Genetic Algorithm setup complete: Fitness and Individual classes created.\n"
          ]
        }
      ]
    },
    {
      "cell_type": "code",
      "source": [
        "#TASK 4 - Starting with the toolbox and tools\n",
        "\"\"\"toolbox = base.Toolbox()\n",
        "toolbox.register(\"indices\", random.sample, range(num_locations), num_locations)\n",
        "toolbox.register(\"individual\", #finish defining how to build an individual)\n",
        "toolbox.register(\"population\", #finish defining how to build an population)\"\"\"\n",
        "\n",
        "# Create the toolbox\n",
        "toolbox = base.Toolbox()\n",
        "\n",
        "# Register a function to generate a random permutation of locations\n",
        "toolbox.register(\"indices\", random.sample, range(num_locations), num_locations)\n",
        "\n",
        "# Register how to create an individual (a random permutation of locations)\n",
        "toolbox.register(\"individual\", tools.initIterate, creator.Individual, toolbox.indices)\n",
        "\n",
        "# Register how to create a population (list of individuals)\n",
        "toolbox.register(\"population\", tools.initRepeat, list, toolbox.individual)\n",
        "\n",
        "# Display confirmation\n",
        "print(\"Toolbox and tools setup complete\")\n"
      ],
      "metadata": {
        "colab": {
          "base_uri": "https://localhost:8080/"
        },
        "id": "itBQfLylTycI",
        "outputId": "db3fa01b-0e52-4639-c365-55fec80815e2"
      },
      "execution_count": 111,
      "outputs": [
        {
          "output_type": "stream",
          "name": "stdout",
          "text": [
            "Toolbox and tools setup complete\n"
          ]
        }
      ]
    },
    {
      "cell_type": "code",
      "source": [
        "# TODO: Task 5 - Write the fitness evaluation function\n",
        "#              - Return (total distance, standard deviation)\n",
        "\n",
        "def evalVRP(individual):\n",
        "    total_distance = 0\n",
        "    distances = []  # Track distance traveled by each vehicle for balance calculation\n",
        "\n",
        "    # Split the list of locations among vehicles, ensuring each starts and ends at the depot\n",
        "    for i in range(num_vehicles):\n",
        "        # Create the route for the vehicle\n",
        "        vehicle_route = [depot] + [locations[individual[j]] for j in range(i, len(individual), num_vehicles)] + [depot]\n",
        "\n",
        "        # Calculate total distance traveled by this vehicle\n",
        "        vehicle_distance = 0\n",
        "        for k in range(len(vehicle_route) - 1):\n",
        "            current_location = vehicle_route[k]\n",
        "            next_location = vehicle_route[k + 1]\n",
        "            vehicle_distance += ((current_location[0] - next_location[0])**2 +\n",
        "                                 (current_location[1] - next_location[1])**2)**0.5\n",
        "\n",
        "        total_distance += vehicle_distance\n",
        "        distances.append(vehicle_distance)\n",
        "\n",
        "    # Use standard deviation of distances as a penalty for imbalance among vehicles\n",
        "    balance_penalty = np.std(distances)\n",
        "\n",
        "    return total_distance, balance_penalty"
      ],
      "metadata": {
        "id": "PMFhKdqyXUFD"
      },
      "execution_count": 112,
      "outputs": []
    },
    {
      "cell_type": "code",
      "source": [
        "# Task 6\n",
        "#toolbox.register(\"evaluate\", evalVRP)"
      ],
      "metadata": {
        "id": "8e0SUyYoaBS8"
      },
      "execution_count": 113,
      "outputs": []
    },
    {
      "cell_type": "code",
      "source": [
        "# Example test\n",
        "sample_individual = toolbox.individual()\n",
        "fitness = toolbox.evaluate(sample_individual)\n",
        "print(f\"Sample Individual: {sample_individual}\")\n",
        "print(f\"Fitness (Total Distance, Balance Penalty): {fitness}\")\n"
      ],
      "metadata": {
        "colab": {
          "base_uri": "https://localhost:8080/"
        },
        "id": "3rwCqo8gn_4x",
        "outputId": "0e13298a-f27e-4acc-ca67-8585617782ba"
      },
      "execution_count": 114,
      "outputs": [
        {
          "output_type": "stream",
          "name": "stdout",
          "text": [
            "Sample Individual: [9, 0, 6, 5, 1, 7, 2, 4, 3, 8]\n",
            "Fitness (Total Distance, Balance Penalty): (747.520827993954, 23.060661354742326)\n"
          ]
        }
      ]
    },
    {
      "cell_type": "code",
      "source": [
        "# TODO: Task 7 - Configure the genetic operators\n",
        "\"\"\"toolbox.register(\"mate\", # Choose and configure a crossover method)\n",
        "toolbox.register(\"mutate\", # Choose and configure a mutation method)\n",
        "toolbox.register(\"select\", # Choose and configure a selection method)\"\"\"\n",
        "\n",
        "toolbox.register(\"mate\", tools.cxPartialyMatched)  # Register the crossover function suitable for permutation-based representation\n",
        "toolbox.register(\"mutate\", tools.mutShuffleIndexes, indpb=0.05)  # Register the mutation function to shuffle indices with a 5% chance per index\n",
        "toolbox.register(\"select\", tools.selTournament, tournsize=3)  # Register the selection function using tournament selection\n",
        "\n",
        "\n",
        "# Confirmation message\n",
        "print(\"Genetic operators successfully registered in the toolbox.\")"
      ],
      "metadata": {
        "id": "dEG-h-OXndP4",
        "colab": {
          "base_uri": "https://localhost:8080/"
        },
        "outputId": "6b329e26-e4a4-485c-a3e6-d0370564f207"
      },
      "execution_count": 115,
      "outputs": [
        {
          "output_type": "stream",
          "name": "stdout",
          "text": [
            "Genetic operators successfully registered in the toolbox.\n"
          ]
        }
      ]
    },
    {
      "cell_type": "code",
      "source": [
        "def plot_routes(individual, title=\"Routes\"):\n",
        "    plt.figure()\n",
        "    # Plot locations as blue dots and the depot as a red square\n",
        "    for (x, y) in locations:\n",
        "        plt.plot(x, y, 'bo')\n",
        "    plt.plot(depot[0], depot[1], 'rs')\n",
        "\n",
        "    # Draw routes for each vehicle\n",
        "    for i in range(num_vehicles):\n",
        "        vehicle_route = [depot] + [locations[individual[j]] for j in range(i, len(individual), num_vehicles)] + [depot]\n",
        "        plt.plot(*zip(*vehicle_route), '-', 'rs')\n",
        "\n",
        "    plt.title(title)\n",
        "    plt.xlabel('X Coordinate')\n",
        "    plt.ylabel('Y Coordinate')\n",
        "    plt.show()"
      ],
      "metadata": {
        "id": "5j_koJv-js64"
      },
      "execution_count": 116,
      "outputs": []
    },
    {
      "cell_type": "code",
      "source": [
        "plot_routes(toolbox.individual())"
      ],
      "metadata": {
        "colab": {
          "base_uri": "https://localhost:8080/",
          "height": 472
        },
        "id": "vw3DEvFcUCfq",
        "outputId": "df853371-8d63-482a-cc50-213492a0b8c5"
      },
      "execution_count": 117,
      "outputs": [
        {
          "output_type": "display_data",
          "data": {
            "text/plain": [
              "<Figure size 640x480 with 1 Axes>"
            ],
            "image/png": "[encoded data removed]"
          },
          "metadata": {}
        }
      ]
    },
    {
      "cell_type": "code",
      "source": [
        "# Fitness and individual creation\n",
        "creator.create(\"FitnessMin\", base.Fitness, weights=(-1.0, -1.0))  # Two weights for two objectives\n",
        "creator.create(\"Individual\", list, fitness=creator.FitnessMin)\n",
        "\n",
        "# Fitness evaluation function\n",
        "def evalVRP(individual):\n",
        "    total_distance = ...\n",
        "    balance_penalty = ...\n",
        "    return total_distance, balance_penalty\n",
        "\n",
        "toolbox.register(\"evaluate\", evalVRP)\n"
      ],
      "metadata": {
        "id": "dYjw4MKrlgx9"
      },
      "execution_count": 120,
      "outputs": []
    },
    {
      "cell_type": "code",
      "source": [
        "def main():\n",
        "    random.seed(42)  # Seed for reproducibility\n",
        "    pop = toolbox.population(n=300)  # Generate initial population\n",
        "    hof = tools.HallOfFame(1)  # Hall of Fame to store the best individual\n",
        "\n",
        "    # Setup statistics to track\n",
        "    stats = tools.Statistics(lambda ind: ind.fitness.values)\n",
        "    stats.register(\"avg\", np.mean)\n",
        "    stats.register(\"min\", np.min)\n",
        "\n",
        "    # Run the genetic algorithm\n",
        "    algorithms.eaSimple(pop, toolbox, 0.7, 0.2, 300, stats=stats, halloffame=hof)\n",
        "\n",
        "    # Plot the best route found\n",
        "    plot_routes(hof[0], \"Optimal Route\")\n",
        "    return pop, stats, hof\n",
        "\n",
        "if __name__ == \"__main__\":\n",
        "    main()"
      ],
      "metadata": {
        "id": "vbcIGnfgj-wM"
      },
      "execution_count": null,
      "outputs": []
    },
    {
      "cell_type": "code",
      "source": [],
      "metadata": {
        "id": "w9rFZCYJdI7v"
      },
      "execution_count": 104,
      "outputs": []
    }
  ]
}